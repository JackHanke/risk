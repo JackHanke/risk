{
 "cells": [
  {
   "cell_type": "code",
   "execution_count": null,
   "metadata": {
    "metadata": {}
   },
   "outputs": [],
   "source": [
    "%matplotlib ipympl\n",
    "import numpy as np\n",
    "import matplotlib.pyplot as plt\n",
    "from mpl_toolkits.mplot3d import Axes3D\n",
    "from matplotlib.widgets import Slider, Button, RadioButtons\n",
    "\n",
    "size=10\n",
    "\n",
    "def make_toytable(gamma, delta, dim):\n",
    "    alpha = 1/2\n",
    "    beta = 1/2\n",
    "    s11 = 1/2\n",
    "    toytable = np.zeros((dim,dim))\n",
    "    for i in range(1,dim): toytable[i][0] = 1\n",
    "    for j in range(1, dim): toytable[1][j] = (alpha)**(j)\n",
    "    for i in range(2,dim): toytable[i][1] = 1-(beta)**(i)\n",
    "    toytable[1][1] = s11\n",
    "    for i in range(2,dim):\n",
    "        for j in range(2,dim):\n",
    "            toytable[i][j] = gamma*toytable[i][j-2] + (1-gamma-delta)*toytable[i-1][j-1] + delta*toytable[i-2][j]\n",
    "    return toytable\n",
    "\n",
    "fig = plt.figure()      \n",
    "X=np.arange(0,size,1)\n",
    "Y=np.arange(0,size,1)\n",
    "X,Y = np.meshgrid(X,Y)\n",
    "toy = make_toytable(1/3,1/3,size)\n",
    "\n",
    "ax = fig.add_subplot(111, projection='3d') \n",
    "\n",
    "l = ax.plot_surface(X,Y,toy,rstride=2, cstride=2, cmap=plt.get_cmap('viridis'))\n",
    "\n",
    "axhauteur = plt.axes([0.2, 0.1, 0.65, 0.03])\n",
    "axhauteur2 = plt.axes([0.05, 0.2, 0.03, 0.65])\n",
    "shauteur = Slider(axhauteur, 'gamma', 0, 1, valinit=1/3)\n",
    "shauteur2 = Slider(axhauteur2, 'delta', 0, 1, valinit=1/3, orientation='vertical')\n",
    "\n",
    "def update(val): \n",
    "    gam = shauteur.val \n",
    "    delt = shauteur2.val \n",
    "    ax.clear()\n",
    "    l=ax.plot_surface(X,Y,make_toytable(gam,delt,size),cmap=plt.get_cmap('viridis'),rstride=2, cstride=2)\n",
    "    ax.set_zlim(0,1)\n",
    "    fig.canvas.draw_idle() \n",
    "shauteur.on_changed(update)\n",
    "shauteur2.on_changed(update)\n",
    "ax.set_zlim(0,1)\n",
    "\n",
    "plt.show()"
   ]
  }
 ],
 "metadata": {
  "kernelspec": {
   "display_name": "Python 3",
   "language": "python",
   "name": "python3"
  },
  "language_info": {
   "codemirror_mode": {
    "name": "ipython",
    "version": 3
   },
   "file_extension": ".py",
   "mimetype": "text/x-python",
   "name": "python",
   "nbconvert_exporter": "python",
   "pygments_lexer": "ipython3",
   "version": "3.11.2"
  },
  "orig_nbformat": 4
 },
 "nbformat": 4,
 "nbformat_minor": 2
}
